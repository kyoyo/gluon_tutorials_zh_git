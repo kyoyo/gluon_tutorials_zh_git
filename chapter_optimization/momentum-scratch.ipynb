{
 "cells": [
  {
   "cell_type": "markdown",
   "metadata": {},
   "source": [
    "# 动量法 --- 从0开始\n",
    "\n",
    "\n",
    "\n",
    "在[梯度下降和随机梯度下降](./gd-sgd-scratch.md)的章节中，我们介绍了梯度下降算法：每次迭代时，该算法沿着目标函数下降最**快**的方向更新参数。因此，梯度下降有时也叫做最陡下降（steepest descent）。在梯度下降中，每次更新参数的方向仅仅取决当前位置，这可能会带来一些问题。\n",
    "\n",
    "\n",
    "## 梯度下降的问题\n",
    "\n",
    "考虑一个输入为二维向量$\\mathbf{x} = [x_1, x_2]^\\top$，输出为标量的目标函数$f: \\mathbb{R}^2 \\rightarrow \\mathbb{R}$。下面为该函数的等高线示意图（每条等高线表示相同函数值的点：越靠近中间函数值越小）。\n",
    "\n",
    "![](../img/gd-move.png)\n",
    "\n",
    "上图中，红色三角形代表参数$\\mathbf{x}$的初始值。带箭头的线段表示每次迭代时参数的更新。由于目标函数在竖直方向（$x_2$轴方向）上比在水平方向（$x_1$轴方向）弯曲得更厉害，梯度下降迭代参数时会使参数在竖直方向比在水平方向移动更猛烈。因此，我们需要一个较小的学习率从而避免参数在竖直方向上overshoot。这就造成了上图中参数向最优解移动速度的缓慢。\n",
    "\n",
    "\n",
    "## 动量法\n",
    "\n",
    "动量法的提出是为了应对梯度下降的上述问题。广义上，以小批量随机梯度下降为例（当批量大小等于训练集大小时，该算法即为梯度下降；批量大小为1即为随机梯度下降），我们对[梯度下降和随机梯度下降](./gd-sgd-scratch.md)的章节中的小批量随机梯度算法做如下修改：\n",
    "\n",
    "$$\n",
    "\\begin{align*}\n",
    "\\mathbf{v} &:= \\gamma \\mathbf{v} + \\eta \\nabla f_\\mathcal{B}(\\mathbf{x}),\\\\\n",
    "\\mathbf{x} &:= \\mathbf{x} - \\mathbf{v},\n",
    "\\end{align*}\n",
    "$$\n",
    "\n",
    "其中$\\mathbf{v}$是当前速度，$\\gamma$是动量参数。其余符号如学习率$\\eta$、有关小批量$\\mathcal{B}$的随机梯度$\\nabla f_\\mathcal{B}(\\mathbf{x})$都已在[梯度下降和随机梯度下降](./gd-sgd-scratch.md)的章节中定义，此处不再赘述。\n",
    "\n",
    "当前速度$\\mathbf{v}$的更新可以理解为对$[\\eta / (1 - \\gamma)] \\nabla f_\\mathcal{B}(\\mathbf{x})$做指数加权移动平均。因此，动量法的每次迭代中，参数在各个方向上移动幅度不仅取决当前梯度，还取决过去各个梯度在各个方向上是否一致。当过去的所有梯度都在同一方向，例如都是水平向右，那么参数在水平向右的移动幅度最大。如果过去的梯度中在竖直方向上时上时下，那么参数在竖直方向的移动幅度将变小。这样，我们就可以使用较大的学习率，从而如下图收敛更快。\n",
    "\n",
    "![](../img/momentum-move.png)\n",
    "\n",
    "\n",
    "## 动量参数\n",
    "\n",
    "为了有助于理解动量参数$\\gamma$，让我们考虑一个简单的问题：每次迭代的小批量随机梯度$\\nabla f_\\mathcal{B}(\\mathbf{x})$都等于$\\mathbf{g}$。由于所有小批量随机梯度都在同一方向，动量法在该方向使参数移动加速：\n",
    "\n",
    "$$\n",
    "\\begin{align*}\n",
    "\\mathbf{v}_1 &:= \\eta\\mathbf{g},\\\\\n",
    "\\mathbf{v}_2 &:= \\gamma \\mathbf{v}_1 + \\eta\\mathbf{g} = \\eta\\mathbf{g} (\\gamma + 1),\\\\\n",
    "\\mathbf{v}_3 &:= \\gamma \\mathbf{v}_2 + \\eta\\mathbf{g} = \\eta\\mathbf{g} (\\gamma^2 + \\gamma + 1),\\\\\n",
    "&\\ldots\\\\\n",
    "\\mathbf{v}_\\inf &:= \\frac{\\eta\\mathbf{g}}{1 - \\gamma}.\n",
    "\\end{align*}\n",
    "$$\n",
    "\n",
    "例如，当$\\gamma = 0.99$, 最终的速度将是相应小批量随机梯度$\\mathbf{g}$的100倍大。\n",
    "\n",
    "## 算法实现和实验\n",
    "\n",
    "动量法的实现也很简单。我们在小批量随机梯度下降的基础上添加速度项。"
   ]
  },
  {
   "cell_type": "code",
   "execution_count": 1,
   "metadata": {
    "attributes": {
     "classes": [],
     "id": "",
     "n": "1"
    }
   },
   "outputs": [],
   "source": [
    "# 动量法。\n",
    "def sgd_momentum(params, vs, lr, mom, batch_size):\n",
    "    for param, v in zip(params, vs):\n",
    "        v[:] = mom * v + lr * param.grad / batch_size\n",
    "        param[:] -= v"
   ]
  },
  {
   "cell_type": "markdown",
   "metadata": {},
   "source": [
    "实验中，我们以线性回归为例。其中真实参数`w`为[2, -3.4]，`b`为4.2。我们把速度项初始化为和参数形状相同的零张量。"
   ]
  },
  {
   "cell_type": "code",
   "execution_count": 2,
   "metadata": {
    "attributes": {
     "classes": [],
     "id": "",
     "n": "2"
    }
   },
   "outputs": [],
   "source": [
    "import mxnet as mx\n",
    "from mxnet import autograd\n",
    "from mxnet import ndarray as nd\n",
    "from mxnet import gluon\n",
    "import random\n",
    "\n",
    "mx.random.seed(1)\n",
    "random.seed(1)\n",
    "\n",
    "# 生成数据集。\n",
    "num_inputs = 2\n",
    "num_examples = 1000\n",
    "true_w = [2, -3.4]\n",
    "true_b = 4.2\n",
    "X = nd.random_normal(scale=1, shape=(num_examples, num_inputs))\n",
    "y = true_w[0] * X[:, 0] + true_w[1] * X[:, 1] + true_b\n",
    "y += .01 * nd.random_normal(scale=1, shape=y.shape)\n",
    "dataset = gluon.data.ArrayDataset(X, y)\n",
    "\n",
    "# 构造迭代器。\n",
    "import random\n",
    "def data_iter(batch_size):\n",
    "    idx = list(range(num_examples))\n",
    "    random.shuffle(idx)\n",
    "    for batch_i, i in enumerate(range(0, num_examples, batch_size)):\n",
    "        j = nd.array(idx[i: min(i + batch_size, num_examples)])\n",
    "        yield batch_i, X.take(j), y.take(j)\n",
    "\n",
    "# 初始化模型参数。\n",
    "def init_params():\n",
    "    w = nd.random_normal(scale=1, shape=(num_inputs, 1))\n",
    "    b = nd.zeros(shape=(1,))\n",
    "    params = [w, b]\n",
    "    vs = []\n",
    "    for param in params:\n",
    "        param.attach_grad()\n",
    "        # 把速度项初始化为和参数形状相同的零张量。\n",
    "        vs.append(param.zeros_like())\n",
    "    return params, vs\n",
    "\n",
    "# 线性回归模型。\n",
    "def net(X, w, b):\n",
    "    return nd.dot(X, w) + b\n",
    "\n",
    "# 损失函数。\n",
    "def square_loss(yhat, y):\n",
    "    return (yhat - y.reshape(yhat.shape)) ** 2 / 2"
   ]
  },
  {
   "cell_type": "markdown",
   "metadata": {},
   "source": [
    "接下来定义训练函数。当epoch大于2时（epoch从1开始计数），学习率以自乘0.1的方式自我衰减。训练函数的period参数说明，每次采样过该数目的数据点后，记录当前目标函数值用于作图。例如，当period和batch_size都为10时，每次迭代后均会记录目标函数值。"
   ]
  },
  {
   "cell_type": "code",
   "execution_count": 3,
   "metadata": {
    "attributes": {
     "classes": [],
     "id": "",
     "n": "3"
    }
   },
   "outputs": [],
   "source": [
    "%matplotlib inline\n",
    "import matplotlib as mpl\n",
    "mpl.rcParams['figure.dpi']= 120\n",
    "import matplotlib.pyplot as plt\n",
    "import numpy as np\n",
    "\n",
    "def train(batch_size, lr, mom, epochs, period):\n",
    "    assert period >= batch_size and period % batch_size == 0\n",
    "    [w, b], vs = init_params()\n",
    "    total_loss = [np.mean(square_loss(net(X, w, b), y).asnumpy())]\n",
    "\n",
    "    # 注意epoch从1开始计数。\n",
    "    for epoch in range(1, epochs + 1):\n",
    "        # 重设学习率。\n",
    "        if epoch > 2:\n",
    "            lr *= 0.1\n",
    "        for batch_i, data, label in data_iter(batch_size):\n",
    "            with autograd.record():\n",
    "                output = net(data, w, b)\n",
    "                loss = square_loss(output, label)\n",
    "            loss.backward()\n",
    "            sgd_momentum([w, b], vs, lr, mom, batch_size)\n",
    "            if batch_i * batch_size % period == 0:\n",
    "                total_loss.append(np.mean(square_loss(net(X, w, b), y).asnumpy()))\n",
    "        print(\"Batch size %d, Learning rate %f, Epoch %d, loss %.4e\" % \n",
    "              (batch_size, lr, epoch, total_loss[-1]))\n",
    "    print('w:', np.reshape(w.asnumpy(), (1, -1)), \n",
    "          'b:', b.asnumpy()[0], '\\n')\n",
    "    x_axis = np.linspace(0, epochs, len(total_loss), endpoint=True)\n",
    "    plt.semilogy(x_axis, total_loss)\n",
    "    plt.xlabel('epoch')\n",
    "    plt.ylabel('loss')\n",
    "    plt.show()"
   ]
  },
  {
   "cell_type": "markdown",
   "metadata": {},
   "source": [
    "使用动量法，最终学到的参数值与真实值较接近。"
   ]
  },
  {
   "cell_type": "code",
   "execution_count": 4,
   "metadata": {
    "attributes": {
     "classes": [],
     "id": "",
     "n": "4"
    }
   },
   "outputs": [
    {
     "name": "stdout",
     "output_type": "stream",
     "text": [
      "Batch size 10, Learning rate 0.200000, Epoch 1, loss 5.5845e-04\n"
     ]
    },
    {
     "name": "stdout",
     "output_type": "stream",
     "text": [
      "Batch size 10, Learning rate 0.200000, Epoch 2, loss 6.5758e-05\n"
     ]
    },
    {
     "name": "stdout",
     "output_type": "stream",
     "text": [
      "Batch size 10, Learning rate 0.020000, Epoch 3, loss 4.9267e-05\n",
      "w: [[ 2.00156975 -3.39996457]] b: 4.19986 \n",
      "\n"
     ]
    },
    {
     "data": {
      "image/png": "[encoded data removed]",
      "text/plain": [
       "<matplotlib.figure.Figure at 0x7f9a984666d8>"
      ]
     },
     "metadata": {},
     "output_type": "display_data"
    }
   ],
   "source": [
    "train(batch_size=10, lr=0.2, mom=0.9, epochs=3, period=10)"
   ]
  },
  {
   "cell_type": "markdown",
   "metadata": {},
   "source": [
    "## 结论\n",
    "\n",
    "* 动量法可以提升随机梯度下降，例如对于某些问题可以选用较大学习率从而加快收敛。\n",
    "\n",
    "\n",
    "## 练习\n",
    "\n",
    "* 试着使用较小的动量参数，观察实验结果。\n",
    "\n",
    "**吐槽和讨论欢迎点**[这里](https://discuss.gluon.ai/t/topic/1879)"
   ]
  }
 ],
 "metadata": {
  "language_info": {
   "name": "python"
  }
 },
 "nbformat": 4,
 "nbformat_minor": 2
}
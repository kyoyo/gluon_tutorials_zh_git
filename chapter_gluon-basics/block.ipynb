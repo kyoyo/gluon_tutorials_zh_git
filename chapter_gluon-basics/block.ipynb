{
 "cells": [
  {
   "cell_type": "markdown",
   "metadata": {},
   "source": [
    "# 创建神经网络\n",
    "\n",
    "前面的教程我们教了大家如何实现线性回归，多类Logistic回归和多层感知机。我们既展示了如何从0开始实现，也提供使用`gluon`的更紧凑的实现。因为前面我们主要关注在模型本身，所以只解释了如何使用`gluon`，但没说明他们是如何工作的。我们使用了`nn.Sequential`，它是`nn.Block`的一个简单形式，但没有深入了解它们。\n",
    "\n",
    "本教程和接下来几个教程，我们将详细解释如何使用这两个类来定义神经网络、初始化参数、以及保存和读取模型。\n",
    "\n",
    "我们重新把[多层感知机 --- 使用Gluon](../chapter_supervised-learning/mlp-gluon.md)里的网络定义搬到这里作为开始的例子（为了简单起见，这里我们丢掉了Flatten层）。"
   ]
  },
  {
   "cell_type": "code",
   "execution_count": 1,
   "metadata": {
    "attributes": {
     "classes": [],
     "id": "",
     "n": "9"
    }
   },
   "outputs": [
    {
     "name": "stdout",
     "output_type": "stream",
     "text": [
      "Sequential(\n",
      "  (0): Dense(256, Activation(relu))\n",
      "  (1): Dense(10, linear)\n",
      ")\n"
     ]
    }
   ],
   "source": [
    "from mxnet import nd\n",
    "from mxnet.gluon import nn\n",
    "\n",
    "net = nn.Sequential()\n",
    "with net.name_scope():\n",
    "    net.add(nn.Dense(256, activation=\"relu\"))\n",
    "    net.add(nn.Dense(10))\n",
    "\n",
    "print(net)"
   ]
  },
  {
   "cell_type": "markdown",
   "metadata": {},
   "source": [
    "## 使用 `nn.Block` 来定义\n",
    "\n",
    "事实上，`nn.Sequential`是`nn.Block`的简单形式。我们先来看下如何使用`nn.Block`来实现同样的网络。"
   ]
  },
  {
   "cell_type": "code",
   "execution_count": 2,
   "metadata": {
    "attributes": {
     "classes": [],
     "id": "",
     "n": "10"
    }
   },
   "outputs": [],
   "source": [
    "class MLP(nn.Block):\n",
    "    def __init__(self, **kwargs):\n",
    "        super(MLP, self).__init__(**kwargs)\n",
    "        with self.name_scope():\n",
    "            self.dense0 = nn.Dense(256)\n",
    "            self.dense1 = nn.Dense(10)\n",
    "\n",
    "    def forward(self, x):\n",
    "        return self.dense1(nd.relu(self.dense0(x)))"
   ]
  },
  {
   "cell_type": "markdown",
   "metadata": {},
   "source": [
    "可以看到`nn.Block`的使用是通过创建一个它子类的类，其中至少包含了两个函数。\n",
    "\n",
    "- `__init__`：创建参数。上面例子我们使用了包含了参数的`dense`层\n",
    "- `forward()`：定义网络的计算\n",
    "\n",
    "我们所创建的类的使用跟前面`net`没有太多不一样。"
   ]
  },
  {
   "cell_type": "code",
   "execution_count": 3,
   "metadata": {
    "attributes": {
     "classes": [],
     "id": "",
     "n": "15"
    }
   },
   "outputs": [
    {
     "name": "stdout",
     "output_type": "stream",
     "text": [
      "MLP(\n",
      "  (dense0): Dense(256, linear)\n",
      "  (dense1): Dense(10, linear)\n",
      ")\n"
     ]
    },
    {
     "data": {
      "text/plain": [
       "\n",
       "[[ 0.05502447  0.01093244 -0.05812225 -0.00867474  0.00780752 -0.03732029\n",
       "  -0.11888048 -0.01667178 -0.12706244 -0.00605519]\n",
       " [ 0.05254333 -0.03761618 -0.03303654 -0.06370584  0.02936437 -0.04790818\n",
       "  -0.07402188  0.00388384 -0.09476319  0.00247342]\n",
       " [ 0.03847572 -0.01801044 -0.02936447 -0.04202728  0.00755377 -0.06616984\n",
       "  -0.08015118  0.04540668 -0.08034274  0.00180145]\n",
       " [ 0.03042224 -0.04749024 -0.00121015 -0.08124933  0.03479041 -0.06163511\n",
       "  -0.10677548  0.04019741 -0.1076465   0.01437488]]\n",
       "<NDArray 4x10 @cpu(0)>"
      ]
     },
     "execution_count": 3,
     "metadata": {},
     "output_type": "execute_result"
    }
   ],
   "source": [
    "net2 = MLP()\n",
    "print(net2)\n",
    "net2.initialize()\n",
    "x = nd.random.uniform(shape=(4,20))\n",
    "y = net2(x)\n",
    "y"
   ]
  },
  {
   "cell_type": "code",
   "execution_count": 4,
   "metadata": {},
   "outputs": [
    {
     "data": {
      "text/plain": [
       "mxnet.gluon.nn.basic_layers.Dense"
      ]
     },
     "execution_count": 4,
     "metadata": {},
     "output_type": "execute_result"
    }
   ],
   "source": [
    "nn.Dense"
   ]
  },
  {
   "cell_type": "markdown",
   "metadata": {},
   "source": [
    "如何定义创建和使用`nn.Dense`比较好理解。接下来我们仔细看下`MLP`里面用的其他命令：\n",
    "\n",
    "- `super(MLP, self).__init__(**kwargs)`：这句话调用`nn.Block`的`__init__`函数，它提供了`prefix`（指定名字）和`params`（指定模型参数）两个参数。我们会之后详细解释如何使用。\n",
    "\n",
    "- `self.name_scope()`：调用`nn.Block`提供的`name_scope()`函数。`nn.Dense`的定义放在这个`scope`里面。它的作用是给里面的所有层和参数的名字加上前缀（prefix）使得他们在系统里面独一无二。默认自动会自动生成前缀，我们也可以在创建的时候手动指定。推荐在构建网络时，每个层至少在一个`name_scope()`里。"
   ]
  },
  {
   "cell_type": "code",
   "execution_count": 5,
   "metadata": {},
   "outputs": [
    {
     "name": "stdout",
     "output_type": "stream",
     "text": [
      "default prefix: mlp0_dense0\n",
      "customized prefix: another_mlp_dense0\n"
     ]
    }
   ],
   "source": [
    "print('default prefix:', net2.dense0.name)\n",
    "\n",
    "net3 = MLP(prefix='another_mlp_')\n",
    "print('customized prefix:', net3.dense0.name)"
   ]
  },
  {
   "cell_type": "markdown",
   "metadata": {},
   "source": [
    "大家会发现这里并没有定义如何求导，或者是`backward()`函数。事实上，系统会使用`autograd`对`forward()`自动生成对应的`backward()`函数。\n",
    "\n",
    "## `nn.Block`到底是什么东西？\n",
    "\n",
    "在`gluon`里，`nn.Block`是一个一般化的部件。整个神经网络可以是一个`nn.Block`，单个层也是一个`nn.Block`。我们可以（近似）无限地嵌套`nn.Block`来构建新的`nn.Block`。\n",
    "\n",
    "`nn.Block`主要提供这个东西\n",
    "\n",
    "1. 存储参数\n",
    "2. 描述`forward`如何执行\n",
    "3. 自动求导\n",
    "\n",
    "## 那么现在可以解释`nn.Sequential`了吧\n",
    "\n",
    "`nn.Sequential`是一个`nn.Block`容器，它通过`add`来添加`nn.Block`。它自动生成`forward()`函数，其就是把加进来的`nn.Block`逐一运行。\n",
    "\n",
    "一个简单的实现是这样的："
   ]
  },
  {
   "cell_type": "code",
   "execution_count": 6,
   "metadata": {},
   "outputs": [],
   "source": [
    "class Sequential(nn.Block):\n",
    "    def __init__(self, **kwargs):\n",
    "        super(Sequential, self).__init__(**kwargs)\n",
    "    def add(self, block):\n",
    "        self._children.append(block)\n",
    "    def forward(self, x):\n",
    "        for block in self._children:\n",
    "            x = block(x)\n",
    "        return x"
   ]
  },
  {
   "cell_type": "markdown",
   "metadata": {},
   "source": [
    "可以跟`nn.Sequential`一样的使用这个自定义的类："
   ]
  },
  {
   "cell_type": "code",
   "execution_count": 7,
   "metadata": {},
   "outputs": [
    {
     "data": {
      "text/plain": [
       "\n",
       "[[-0.05634359  0.09217402  0.06786803  0.00810092  0.00316704 -0.06578711\n",
       "   0.02175836  0.00841999  0.0647321   0.01264806]\n",
       " [-0.0608877   0.06674264  0.08634251  0.06163288 -0.01288303 -0.01728502\n",
       "  -0.00963083  0.0280523   0.02129908  0.05371749]\n",
       " [-0.04579362  0.11277001  0.0501334   0.01711009 -0.00263513 -0.04143213\n",
       "   0.01833685  0.02963726  0.05529994  0.01901205]\n",
       " [-0.09248228  0.1179922   0.08974072  0.02259768  0.01704468 -0.07296751\n",
       "   0.02300572  0.038479    0.05917452  0.03611853]]\n",
       "<NDArray 4x10 @cpu(0)>"
      ]
     },
     "execution_count": 7,
     "metadata": {},
     "output_type": "execute_result"
    }
   ],
   "source": [
    "net4 = Sequential()\n",
    "with net4.name_scope():\n",
    "    net4.add(nn.Dense(256, activation=\"relu\"))\n",
    "    net4.add(nn.Dense(10))\n",
    "\n",
    "net4.initialize()\n",
    "y = net4(x)\n",
    "y"
   ]
  },
  {
   "cell_type": "markdown",
   "metadata": {},
   "source": [
    "可以看到，`nn.Sequential`的主要好处是定义网络起来更加简单。但`nn.Block`可以提供更加灵活的网络定义。考虑下面这个例子"
   ]
  },
  {
   "cell_type": "code",
   "execution_count": 8,
   "metadata": {},
   "outputs": [],
   "source": [
    "class FancyMLP(nn.Block):\n",
    "    def __init__(self, **kwargs):\n",
    "        super(FancyMLP, self).__init__(**kwargs)\n",
    "        with self.name_scope():\n",
    "            self.dense = nn.Dense(256)\n",
    "            self.weight = nd.random_uniform(shape=(256,20))\n",
    "\n",
    "    def forward(self, x):\n",
    "        x = nd.relu(self.dense(x))\n",
    "        x = nd.relu(nd.dot(x, self.weight)+1)\n",
    "        x = nd.relu(self.dense(x))\n",
    "        return x"
   ]
  },
  {
   "cell_type": "markdown",
   "metadata": {},
   "source": [
    "看到这里我们直接手动创建和初始了权重`weight`，并重复用了`dense`的层。测试一下："
   ]
  },
  {
   "cell_type": "code",
   "execution_count": 9,
   "metadata": {},
   "outputs": [
    {
     "name": "stdout",
     "output_type": "stream",
     "text": [
      "(4, 256)\n"
     ]
    }
   ],
   "source": [
    "fancy_mlp = FancyMLP()\n",
    "fancy_mlp.initialize()\n",
    "y = fancy_mlp(x)\n",
    "print(y.shape)"
   ]
  },
  {
   "cell_type": "markdown",
   "metadata": {},
   "source": [
    "## `nn.Block`和`nn.Sequential`的嵌套使用\n",
    "\n",
    "现在我们知道了`nn`下面的类基本都是`nn.Block`的子类，他们可以很方便地嵌套使用。"
   ]
  },
  {
   "cell_type": "code",
   "execution_count": 10,
   "metadata": {},
   "outputs": [
    {
     "name": "stdout",
     "output_type": "stream",
     "text": [
      "Sequential(\n",
      "  (0): RecMLP(\n",
      "    (net): Sequential(\n",
      "      (0): Dense(256, Activation(relu))\n",
      "      (1): Dense(128, Activation(relu))\n",
      "    )\n",
      "    (dense): Dense(64, linear)\n",
      "  )\n",
      "  (1): Dense(10, linear)\n",
      ")\n"
     ]
    }
   ],
   "source": [
    "class RecMLP(nn.Block):\n",
    "    def __init__(self, **kwargs):\n",
    "        super(RecMLP, self).__init__(**kwargs)\n",
    "        self.net = nn.Sequential()\n",
    "        with self.name_scope():\n",
    "            self.net.add(nn.Dense(256, activation=\"relu\"))\n",
    "            self.net.add(nn.Dense(128, activation=\"relu\"))\n",
    "            self.dense = nn.Dense(64)\n",
    "\n",
    "    def forward(self, x):\n",
    "        return nd.relu(self.dense(self.net(x)))\n",
    "\n",
    "rec_mlp = nn.Sequential()\n",
    "rec_mlp.add(RecMLP())\n",
    "rec_mlp.add(nn.Dense(10))\n",
    "print(rec_mlp)"
   ]
  },
  {
   "cell_type": "markdown",
   "metadata": {},
   "source": [
    "## 总结\n",
    "\n",
    "不知道你同不同意，通过`nn.Block`来定义神经网络跟玩积木很类似。\n",
    "\n",
    "## 练习\n",
    "\n",
    "如果把`RecMLP`改成`self.denses = [nn.Dense(256), nn.Dense(128), nn.Dense(64)]`，`forward`就用for loop来实现，会有什么问题吗？\n",
    "\n",
    "**吐槽和讨论欢迎点**[这里](https://discuss.gluon.ai/t/topic/986)"
   ]
  }
 ],
 "metadata": {
  "language_info": {
   "name": "python"
  }
 },
 "nbformat": 4,
 "nbformat_minor": 2
}
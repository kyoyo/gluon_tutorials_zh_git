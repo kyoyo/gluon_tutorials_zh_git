{
 "cells": [
  {
   "cell_type": "markdown",
   "metadata": {},
   "source": [
    "# 正则化 --- 从0开始\n",
    "\n",
    "本章从0开始介绍如何的正则化来应对[过拟合](underfit-overfit.md)问题。\n",
    "\n",
    "## 高维线性回归\n",
    "\n",
    "我们使用高维线性回归为例来引入一个过拟合问题。\n",
    "\n",
    "\n",
    "具体来说我们使用如下的线性函数来生成每一个数据样本\n",
    "\n",
    "$$y = 0.05 + \\sum_{i = 1}^p 0.01x_i +  \\text{noise}$$\n",
    "\n",
    "这里噪音服从均值0和标准差为0.01的正态分布。\n",
    "\n",
    "需要注意的是，我们用以上相同的数据生成函数来生成训练数据集和测试数据集。为了观察过拟合，我们特意把训练数据样本数设低，例如$n=20$，同时把维度升高，例如$p=200$。"
   ]
  },
  {
   "cell_type": "code",
   "execution_count": 1,
   "metadata": {
    "attributes": {
     "classes": [],
     "id": "",
     "n": "1"
    }
   },
   "outputs": [],
   "source": [
    "from mxnet import ndarray as nd\n",
    "from mxnet import autograd\n",
    "from mxnet import gluon\n",
    "\n",
    "num_train = 20\n",
    "num_test = 100\n",
    "num_inputs = 200"
   ]
  },
  {
   "cell_type": "markdown",
   "metadata": {},
   "source": [
    "## 生成数据集\n",
    "\n",
    "\n",
    "这里定义模型真实参数。"
   ]
  },
  {
   "cell_type": "code",
   "execution_count": 2,
   "metadata": {
    "attributes": {
     "classes": [],
     "id": "",
     "n": "2"
    }
   },
   "outputs": [],
   "source": [
    "true_w = nd.ones((num_inputs, 1)) * 0.01\n",
    "true_b = 0.05"
   ]
  },
  {
   "cell_type": "markdown",
   "metadata": {},
   "source": [
    "我们接着生成训练和测试数据集。"
   ]
  },
  {
   "cell_type": "code",
   "execution_count": 3,
   "metadata": {
    "attributes": {
     "classes": [],
     "id": "",
     "n": "3"
    }
   },
   "outputs": [],
   "source": [
    "X = nd.random.normal(shape=(num_train + num_test, num_inputs))\n",
    "y = nd.dot(X, true_w)\n",
    "y += .01 * nd.random.normal(shape=y.shape)\n",
    "\n",
    "X_train, X_test = X[:num_train, :], X[num_train:, :]\n",
    "y_train, y_test = y[:num_train], y[num_train:]"
   ]
  },
  {
   "cell_type": "markdown",
   "metadata": {},
   "source": [
    "当我们开始训练神经网络的时候，我们需要不断读取数据块。这里我们定义一个函数它每次返回`batch_size`个随机的样本和对应的目标。我们通过python的`yield`来构造一个迭代器。"
   ]
  },
  {
   "cell_type": "code",
   "execution_count": 4,
   "metadata": {
    "attributes": {
     "classes": [],
     "id": "",
     "n": "4"
    }
   },
   "outputs": [],
   "source": [
    "import random\n",
    "batch_size = 1\n",
    "def data_iter(num_examples):\n",
    "    idx = list(range(num_examples))\n",
    "    random.shuffle(idx)\n",
    "    for i in range(0, num_examples, batch_size):\n",
    "        j = nd.array(idx[i:min(i+batch_size,num_examples)])\n",
    "        yield X.take(j), y.take(j)"
   ]
  },
  {
   "cell_type": "markdown",
   "metadata": {},
   "source": [
    "## 初始化模型参数\n",
    "\n",
    "下面我们随机初始化模型参数。之后训练时我们需要对这些参数求导来更新它们的值，所以我们需要创建它们的梯度。"
   ]
  },
  {
   "cell_type": "code",
   "execution_count": 5,
   "metadata": {
    "attributes": {
     "classes": [],
     "id": "",
     "n": "5"
    }
   },
   "outputs": [],
   "source": [
    "def get_params():\n",
    "    w = nd.random.normal(shape=(num_inputs, 1))*0.1\n",
    "    b = nd.zeros((1,))\n",
    "    for param in (w, b):\n",
    "        param.attach_grad()\n",
    "    return (w, b)"
   ]
  },
  {
   "cell_type": "markdown",
   "metadata": {},
   "source": [
    "## $L_2$范数正则化\n",
    "\n",
    "这里我们引入$L_2$范数正则化。不同于在训练时仅仅最小化损失函数(Loss)，我们在训练时其实在最小化\n",
    "\n",
    "$$\\text{loss} + \\lambda \\sum_{p \\in \\textrm{params}}\\|p\\|_2^2。$$\n",
    "\n",
    "直观上，$L_2$范数正则化试图惩罚较大绝对值的参数值。下面我们定义L2正则化。注意有些时候大家对偏移加罚，有时候不加罚。通常结果上两者区别不大。这里我们演示对偏移也加罚的情况："
   ]
  },
  {
   "cell_type": "code",
   "execution_count": 6,
   "metadata": {},
   "outputs": [],
   "source": [
    "def L2_penalty(w, b):\n",
    "    return (w**2).sum() + b**2"
   ]
  },
  {
   "cell_type": "markdown",
   "metadata": {},
   "source": [
    "## 定义训练和测试\n",
    "\n",
    "下面我们定义剩下的所需要的函数。这个跟之前的教程大致一样，主要是区别在于计算`loss`的时候我们加上了L2正则化，以及我们将训练和测试损失都画了出来。"
   ]
  },
  {
   "cell_type": "code",
   "execution_count": 7,
   "metadata": {
    "attributes": {
     "classes": [],
     "id": "",
     "n": "8"
    }
   },
   "outputs": [],
   "source": [
    "%matplotlib inline\n",
    "import matplotlib as mpl\n",
    "mpl.rcParams['figure.dpi']= 120\n",
    "import matplotlib.pyplot as plt\n",
    "\n",
    "def net(X, lambd, w, b):\n",
    "    return nd.dot(X, w) + b\n",
    "\n",
    "def square_loss(yhat, y):\n",
    "    return (yhat - y.reshape(yhat.shape)) ** 2\n",
    "\n",
    "def SGD(params, lr):\n",
    "    for param in params:\n",
    "        param[:] = param - lr * param.grad\n",
    "        \n",
    "def test(params, X, y):\n",
    "    return square_loss(net(X, 0, *params), y).mean().asscalar()\n",
    "\n",
    "def train(lambd):\n",
    "    epochs = 10\n",
    "    learning_rate = 0.002\n",
    "    params = get_params()\n",
    "    train_loss = []\n",
    "    test_loss = []\n",
    "    for e in range(epochs):        \n",
    "        for data, label in data_iter(num_train):\n",
    "            with autograd.record():\n",
    "                output = net(data, lambd, *params)\n",
    "                loss = square_loss(\n",
    "                    output, label) + lambd * L2_penalty(*params)\n",
    "            loss.backward()\n",
    "            SGD(params, learning_rate)\n",
    "        train_loss.append(test(params, X_train, y_train))\n",
    "        test_loss.append(test(params, X_test, y_test))\n",
    "    plt.plot(train_loss)\n",
    "    plt.plot(test_loss)\n",
    "    plt.legend(['train','test'])\n",
    "    plt.show()\n",
    "    return 'learned w[:10]:', params[0][:10], 'learend b:', params[1]"
   ]
  },
  {
   "cell_type": "markdown",
   "metadata": {},
   "source": [
    "## 观察过拟合\n",
    "\n",
    "接下来我们训练并测试我们的高维线性回归模型。注意这时我们并未使用正则化。"
   ]
  },
  {
   "cell_type": "code",
   "execution_count": 8,
   "metadata": {
    "attributes": {
     "classes": [],
     "id": "",
     "n": "10"
    }
   },
   "outputs": [
    {
     "data": {
      "image/png": "[encoded data removed]",
      "text/plain": [
       "<matplotlib.figure.Figure at 0x7f9f55b4b828>"
      ]
     },
     "metadata": {},
     "output_type": "display_data"
    },
    {
     "data": {
      "text/plain": [
       "('learned w[:10]:', \n",
       " [[ 0.03794683]\n",
       "  [ 0.06871992]\n",
       "  [ 0.06909655]\n",
       "  [ 0.01793571]\n",
       "  [ 0.05761081]\n",
       "  [ 0.09157518]\n",
       "  [-0.02597325]\n",
       "  [-0.15014179]\n",
       "  [-0.09125998]\n",
       "  [ 0.05193319]]\n",
       " <NDArray 10x1 @cpu(0)>, 'learend b:', \n",
       " [-0.03267186]\n",
       " <NDArray 1 @cpu(0)>)"
      ]
     },
     "execution_count": 8,
     "metadata": {},
     "output_type": "execute_result"
    }
   ],
   "source": [
    "train(0)"
   ]
  },
  {
   "cell_type": "markdown",
   "metadata": {},
   "source": [
    "即便训练误差可以达到0.000000，但是测试数据集上的误差很高。这是典型的过拟合现象。\n",
    "\n",
    "观察学习的参数。事实上，大部分学到的参数的绝对值比真实参数的绝对值要大一些。\n",
    "\n",
    "\n",
    "## 使用正则化\n",
    "\n",
    "下面我们重新初始化模型参数并设置一个正则化参数。"
   ]
  },
  {
   "cell_type": "code",
   "execution_count": 9,
   "metadata": {
    "attributes": {
     "classes": [],
     "id": "",
     "n": "11"
    }
   },
   "outputs": [
    {
     "data": {
      "image/png": "[encoded data removed]",
      "text/plain": [
       "<matplotlib.figure.Figure at 0x7f9f33331550>"
      ]
     },
     "metadata": {},
     "output_type": "display_data"
    },
    {
     "data": {
      "text/plain": [
       "('learned w[:10]:', \n",
       " [[ 0.0139041 ]\n",
       "  [ 0.01057856]\n",
       "  [ 0.0074094 ]\n",
       "  [ 0.04134962]\n",
       "  [-0.00725697]\n",
       "  [ 0.02789255]\n",
       "  [ 0.040944  ]\n",
       "  [-0.00626271]\n",
       "  [ 0.00752906]\n",
       "  [-0.0319235 ]]\n",
       " <NDArray 10x1 @cpu(0)>, 'learend b:', \n",
       " [-0.00081068]\n",
       " <NDArray 1 @cpu(0)>)"
      ]
     },
     "execution_count": 9,
     "metadata": {},
     "output_type": "execute_result"
    }
   ],
   "source": [
    "train(2)"
   ]
  },
  {
   "cell_type": "markdown",
   "metadata": {},
   "source": [
    "我们发现训练误差虽然有所提高，但测试数据集上的误差有所下降。过拟合现象得到缓解。但打印出的学到的参数依然不是很理想，这主要是因为我们训练数据的样本相对维度来说太少。\n",
    "\n",
    "## 结论\n",
    "\n",
    "* 我们可以使用正则化来应对过拟合问题。\n",
    "\n",
    "## 练习\n",
    "\n",
    "* 除了正则化、增大训练量、以及使用合适的模型，你觉得还有哪些办法可以应对过拟合现象？\n",
    "* 如果你了解贝叶斯统计，你觉得$L_2$范数正则化对应贝叶斯统计里的哪个重要概念？\n",
    "\n",
    "**吐槽和讨论欢迎点**[这里](https://discuss.gluon.ai/t/topic/984)"
   ]
  }
 ],
 "metadata": {
  "language_info": {
   "name": "python"
  }
 },
 "nbformat": 4,
 "nbformat_minor": 2
}